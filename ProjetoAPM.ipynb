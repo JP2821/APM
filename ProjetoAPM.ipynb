{
  "nbformat": 4,
  "nbformat_minor": 0,
  "metadata": {
    "colab": {
      "provenance": [],
      "include_colab_link": true
    },
    "kernelspec": {
      "name": "python3",
      "display_name": "Python 3"
    },
    "language_info": {
      "name": "python"
    }
  },
  "cells": [
    {
      "cell_type": "markdown",
      "metadata": {
        "id": "view-in-github",
        "colab_type": "text"
      },
      "source": [
        "<a href=\"https://colab.research.google.com/github/JP2821/APM/blob/main/ProjetoAPM.ipynb\" target=\"_parent\"><img src=\"https://colab.research.google.com/assets/colab-badge.svg\" alt=\"Open In Colab\"/></a>"
      ]
    },
    {
      "cell_type": "markdown",
      "source": [
        "# **Modelo de Previsão usando diferentes algoritmos** 🤯\n",
        "---\n",
        "\n",
        "\n",
        "## **Alunos**:\n",
        "* Caio Fazio cfa5@cin.ufpe.br\n",
        "* João Pedro Ribeiro da Silva Dias - jprsd@cin.ufpe.br\n",
        "* Rodrigo Santos Batista – rsb6@cin.ufpe.br\n",
        "\n",
        "\n",
        "CIn ­ UFPE\n",
        "\n",
        "## **Projeto**:\n",
        "\n",
        "Modelo preditivo com:\n",
        "- **Árvore de decisão**\n",
        "- **Bayesiano ingenuo**\n",
        "- **Regressão logística**\n",
        "- **K-vizinhos**\n",
        "\n",
        "## **Professor**:\n",
        "\n",
        "Francisco de Assis Tenorio de Carvalho\n",
        "\n",
        "CIn ­ UFPE\n"
      ],
      "metadata": {
        "id": "JYowDJnlYmPk"
      }
    },
    {
      "cell_type": "markdown",
      "source": [
        "## **Import the data-base**\n",
        "\n",
        "---\n",
        "\n",
        "\n"
      ],
      "metadata": {
        "id": "YBwrCA7Ru4KI"
      }
    },
    {
      "cell_type": "code",
      "source": [
        "import pandas as pd\n",
        "from google.colab import drive\n",
        "\n",
        "drive.mount('/content/drive')\n",
        "\n",
        "\n",
        "\n",
        "from sklearn.model_selection import train_test_split\n",
        "from sklearn.tree import DecisionTreeClassifier\n",
        "from sklearn.naive_bayes import GaussianNB\n",
        "from sklearn.linear_model import LogisticRegression\n",
        "from sklearn.neighbors import KNeighborsClassifier\n",
        "from sklearn.metrics import accuracy_score\n",
        "import numpy as np"
      ],
      "metadata": {
        "colab": {
          "base_uri": "https://localhost:8080/"
        },
        "id": "19xqY8tavDtJ",
        "outputId": "e828f327-4922-42be-f02e-c35d676b331a"
      },
      "execution_count": null,
      "outputs": [
        {
          "output_type": "stream",
          "name": "stdout",
          "text": [
            "Drive already mounted at /content/drive; to attempt to forcibly remount, call drive.mount(\"/content/drive\", force_remount=True).\n"
          ]
        }
      ]
    },
    {
      "cell_type": "code",
      "source": [
        "df0 = pd.read_csv('/content/drive/MyDrive/Aprendizado de máquina/wdbc.data')\n",
        "\n",
        "\n",
        "\n",
        "\n",
        "names = ['ID','Diagnosis','radius1','texture1','perimeter1','area1',\n",
        "               'smoothness1','compactness1','concavity1','concave_points1',\n",
        "               'symmetry1','fractal_dimension1','radius2','texture2',\n",
        "               'perimeter2','area2','smoothness2','compactness2','concavity2',\n",
        "               'concave_points2','symmetry2','fractal_dimension2','radius3',\n",
        "               'texture3','perimeter3','area3','smoothness3','compactness3',\n",
        "               'concavity3','concave_points3','symmetry3','fractal_dimension3']\n",
        "\n",
        "# Processo de nomeação das colunas\n",
        "df0.columns = ['ID','Diagnosis','radius1','texture1','perimeter1','area1',\n",
        "               'smoothness1','compactness1','concavity1','concave_points1',\n",
        "               'symmetry1','fractal_dimension1','radius2','texture2',\n",
        "               'perimeter2','area2','smoothness2','compactness2','concavity2',\n",
        "               'concave_points2','symmetry2','fractal_dimension2','radius3',\n",
        "               'texture3','perimeter3','area3','smoothness3','compactness3',\n",
        "               'concavity3','concave_points3','symmetry3','fractal_dimension3']\n",
        "\n",
        "\n",
        "\n",
        "# creating features and label\n",
        "X = df0.drop('Diagnosis', axis=1)  # Recursos (excluindo a coluna 'Diagnosis')\n",
        "\n",
        "# Variável target (a ser prevista)\n",
        "y = df0['Diagnosis']  # Variável alvo (coluna 'Diagnosis')\n",
        "\n",
        "\n",
        "# por que test_size = 0.3, pelo fato de que isso nos dá 70% da base para treino\n",
        "# e 30% para test como pedido nas especificações\n",
        "X_train, X_test, y_train, y_test = train_test_split(X, y, test_size=0.3, random_state=42)\n"
      ],
      "metadata": {
        "id": "XoOStXzbvOKC"
      },
      "execution_count": null,
      "outputs": []
    },
    {
      "cell_type": "markdown",
      "source": [
        "## **Análise Exploratória de Dados (AED)**"
      ],
      "metadata": {
        "id": "p-rZjDXrdfdl"
      }
    },
    {
      "cell_type": "code",
      "source": [
        "# Redefinindo Diagnosis de M-1 de B-0\n",
        "df0.head()"
      ],
      "metadata": {
        "colab": {
          "base_uri": "https://localhost:8080/",
          "height": 300
        },
        "id": "Z71i1ujoMfWW",
        "outputId": "5ff3e9cc-b120-4f81-875b-05b55aa25fae"
      },
      "execution_count": null,
      "outputs": [
        {
          "output_type": "execute_result",
          "data": {
            "text/plain": [
              "         ID Diagnosis  radius1  texture1  perimeter1   area1  smoothness1  \\\n",
              "0    842517         M    20.57     17.77      132.90  1326.0      0.08474   \n",
              "1  84300903         M    19.69     21.25      130.00  1203.0      0.10960   \n",
              "2  84348301         M    11.42     20.38       77.58   386.1      0.14250   \n",
              "3  84358402         M    20.29     14.34      135.10  1297.0      0.10030   \n",
              "4    843786         M    12.45     15.70       82.57   477.1      0.12780   \n",
              "\n",
              "   compactness1  concavity1  concave_points1  ...  radius3  texture3  \\\n",
              "0       0.07864      0.0869          0.07017  ...    24.99     23.41   \n",
              "1       0.15990      0.1974          0.12790  ...    23.57     25.53   \n",
              "2       0.28390      0.2414          0.10520  ...    14.91     26.50   \n",
              "3       0.13280      0.1980          0.10430  ...    22.54     16.67   \n",
              "4       0.17000      0.1578          0.08089  ...    15.47     23.75   \n",
              "\n",
              "   perimeter3   area3  smoothness3  compactness3  concavity3  concave_points3  \\\n",
              "0      158.80  1956.0       0.1238        0.1866      0.2416           0.1860   \n",
              "1      152.50  1709.0       0.1444        0.4245      0.4504           0.2430   \n",
              "2       98.87   567.7       0.2098        0.8663      0.6869           0.2575   \n",
              "3      152.20  1575.0       0.1374        0.2050      0.4000           0.1625   \n",
              "4      103.40   741.6       0.1791        0.5249      0.5355           0.1741   \n",
              "\n",
              "   symmetry3  fractal_dimension3  \n",
              "0     0.2750             0.08902  \n",
              "1     0.3613             0.08758  \n",
              "2     0.6638             0.17300  \n",
              "3     0.2364             0.07678  \n",
              "4     0.3985             0.12440  \n",
              "\n",
              "[5 rows x 32 columns]"
            ],
            "text/html": [
              "\n",
              "\n",
              "  <div id=\"df-deb361d6-0903-492e-9a98-35297ebf625e\">\n",
              "    <div class=\"colab-df-container\">\n",
              "      <div>\n",
              "<style scoped>\n",
              "    .dataframe tbody tr th:only-of-type {\n",
              "        vertical-align: middle;\n",
              "    }\n",
              "\n",
              "    .dataframe tbody tr th {\n",
              "        vertical-align: top;\n",
              "    }\n",
              "\n",
              "    .dataframe thead th {\n",
              "        text-align: right;\n",
              "    }\n",
              "</style>\n",
              "<table border=\"1\" class=\"dataframe\">\n",
              "  <thead>\n",
              "    <tr style=\"text-align: right;\">\n",
              "      <th></th>\n",
              "      <th>ID</th>\n",
              "      <th>Diagnosis</th>\n",
              "      <th>radius1</th>\n",
              "      <th>texture1</th>\n",
              "      <th>perimeter1</th>\n",
              "      <th>area1</th>\n",
              "      <th>smoothness1</th>\n",
              "      <th>compactness1</th>\n",
              "      <th>concavity1</th>\n",
              "      <th>concave_points1</th>\n",
              "      <th>...</th>\n",
              "      <th>radius3</th>\n",
              "      <th>texture3</th>\n",
              "      <th>perimeter3</th>\n",
              "      <th>area3</th>\n",
              "      <th>smoothness3</th>\n",
              "      <th>compactness3</th>\n",
              "      <th>concavity3</th>\n",
              "      <th>concave_points3</th>\n",
              "      <th>symmetry3</th>\n",
              "      <th>fractal_dimension3</th>\n",
              "    </tr>\n",
              "  </thead>\n",
              "  <tbody>\n",
              "    <tr>\n",
              "      <th>0</th>\n",
              "      <td>842517</td>\n",
              "      <td>M</td>\n",
              "      <td>20.57</td>\n",
              "      <td>17.77</td>\n",
              "      <td>132.90</td>\n",
              "      <td>1326.0</td>\n",
              "      <td>0.08474</td>\n",
              "      <td>0.07864</td>\n",
              "      <td>0.0869</td>\n",
              "      <td>0.07017</td>\n",
              "      <td>...</td>\n",
              "      <td>24.99</td>\n",
              "      <td>23.41</td>\n",
              "      <td>158.80</td>\n",
              "      <td>1956.0</td>\n",
              "      <td>0.1238</td>\n",
              "      <td>0.1866</td>\n",
              "      <td>0.2416</td>\n",
              "      <td>0.1860</td>\n",
              "      <td>0.2750</td>\n",
              "      <td>0.08902</td>\n",
              "    </tr>\n",
              "    <tr>\n",
              "      <th>1</th>\n",
              "      <td>84300903</td>\n",
              "      <td>M</td>\n",
              "      <td>19.69</td>\n",
              "      <td>21.25</td>\n",
              "      <td>130.00</td>\n",
              "      <td>1203.0</td>\n",
              "      <td>0.10960</td>\n",
              "      <td>0.15990</td>\n",
              "      <td>0.1974</td>\n",
              "      <td>0.12790</td>\n",
              "      <td>...</td>\n",
              "      <td>23.57</td>\n",
              "      <td>25.53</td>\n",
              "      <td>152.50</td>\n",
              "      <td>1709.0</td>\n",
              "      <td>0.1444</td>\n",
              "      <td>0.4245</td>\n",
              "      <td>0.4504</td>\n",
              "      <td>0.2430</td>\n",
              "      <td>0.3613</td>\n",
              "      <td>0.08758</td>\n",
              "    </tr>\n",
              "    <tr>\n",
              "      <th>2</th>\n",
              "      <td>84348301</td>\n",
              "      <td>M</td>\n",
              "      <td>11.42</td>\n",
              "      <td>20.38</td>\n",
              "      <td>77.58</td>\n",
              "      <td>386.1</td>\n",
              "      <td>0.14250</td>\n",
              "      <td>0.28390</td>\n",
              "      <td>0.2414</td>\n",
              "      <td>0.10520</td>\n",
              "      <td>...</td>\n",
              "      <td>14.91</td>\n",
              "      <td>26.50</td>\n",
              "      <td>98.87</td>\n",
              "      <td>567.7</td>\n",
              "      <td>0.2098</td>\n",
              "      <td>0.8663</td>\n",
              "      <td>0.6869</td>\n",
              "      <td>0.2575</td>\n",
              "      <td>0.6638</td>\n",
              "      <td>0.17300</td>\n",
              "    </tr>\n",
              "    <tr>\n",
              "      <th>3</th>\n",
              "      <td>84358402</td>\n",
              "      <td>M</td>\n",
              "      <td>20.29</td>\n",
              "      <td>14.34</td>\n",
              "      <td>135.10</td>\n",
              "      <td>1297.0</td>\n",
              "      <td>0.10030</td>\n",
              "      <td>0.13280</td>\n",
              "      <td>0.1980</td>\n",
              "      <td>0.10430</td>\n",
              "      <td>...</td>\n",
              "      <td>22.54</td>\n",
              "      <td>16.67</td>\n",
              "      <td>152.20</td>\n",
              "      <td>1575.0</td>\n",
              "      <td>0.1374</td>\n",
              "      <td>0.2050</td>\n",
              "      <td>0.4000</td>\n",
              "      <td>0.1625</td>\n",
              "      <td>0.2364</td>\n",
              "      <td>0.07678</td>\n",
              "    </tr>\n",
              "    <tr>\n",
              "      <th>4</th>\n",
              "      <td>843786</td>\n",
              "      <td>M</td>\n",
              "      <td>12.45</td>\n",
              "      <td>15.70</td>\n",
              "      <td>82.57</td>\n",
              "      <td>477.1</td>\n",
              "      <td>0.12780</td>\n",
              "      <td>0.17000</td>\n",
              "      <td>0.1578</td>\n",
              "      <td>0.08089</td>\n",
              "      <td>...</td>\n",
              "      <td>15.47</td>\n",
              "      <td>23.75</td>\n",
              "      <td>103.40</td>\n",
              "      <td>741.6</td>\n",
              "      <td>0.1791</td>\n",
              "      <td>0.5249</td>\n",
              "      <td>0.5355</td>\n",
              "      <td>0.1741</td>\n",
              "      <td>0.3985</td>\n",
              "      <td>0.12440</td>\n",
              "    </tr>\n",
              "  </tbody>\n",
              "</table>\n",
              "<p>5 rows × 32 columns</p>\n",
              "</div>\n",
              "      <button class=\"colab-df-convert\" onclick=\"convertToInteractive('df-deb361d6-0903-492e-9a98-35297ebf625e')\"\n",
              "              title=\"Convert this dataframe to an interactive table.\"\n",
              "              style=\"display:none;\">\n",
              "\n",
              "  <svg xmlns=\"http://www.w3.org/2000/svg\" height=\"24px\"viewBox=\"0 0 24 24\"\n",
              "       width=\"24px\">\n",
              "    <path d=\"M0 0h24v24H0V0z\" fill=\"none\"/>\n",
              "    <path d=\"M18.56 5.44l.94 2.06.94-2.06 2.06-.94-2.06-.94-.94-2.06-.94 2.06-2.06.94zm-11 1L8.5 8.5l.94-2.06 2.06-.94-2.06-.94L8.5 2.5l-.94 2.06-2.06.94zm10 10l.94 2.06.94-2.06 2.06-.94-2.06-.94-.94-2.06-.94 2.06-2.06.94z\"/><path d=\"M17.41 7.96l-1.37-1.37c-.4-.4-.92-.59-1.43-.59-.52 0-1.04.2-1.43.59L10.3 9.45l-7.72 7.72c-.78.78-.78 2.05 0 2.83L4 21.41c.39.39.9.59 1.41.59.51 0 1.02-.2 1.41-.59l7.78-7.78 2.81-2.81c.8-.78.8-2.07 0-2.86zM5.41 20L4 18.59l7.72-7.72 1.47 1.35L5.41 20z\"/>\n",
              "  </svg>\n",
              "      </button>\n",
              "\n",
              "\n",
              "\n",
              "    <div id=\"df-5b9ef1a1-8815-4330-b1df-ba953c011177\">\n",
              "      <button class=\"colab-df-quickchart\" onclick=\"quickchart('df-5b9ef1a1-8815-4330-b1df-ba953c011177')\"\n",
              "              title=\"Suggest charts.\"\n",
              "              style=\"display:none;\">\n",
              "\n",
              "<svg xmlns=\"http://www.w3.org/2000/svg\" height=\"24px\"viewBox=\"0 0 24 24\"\n",
              "     width=\"24px\">\n",
              "    <g>\n",
              "        <path d=\"M19 3H5c-1.1 0-2 .9-2 2v14c0 1.1.9 2 2 2h14c1.1 0 2-.9 2-2V5c0-1.1-.9-2-2-2zM9 17H7v-7h2v7zm4 0h-2V7h2v10zm4 0h-2v-4h2v4z\"/>\n",
              "    </g>\n",
              "</svg>\n",
              "      </button>\n",
              "    </div>\n",
              "\n",
              "<style>\n",
              "  .colab-df-quickchart {\n",
              "    background-color: #E8F0FE;\n",
              "    border: none;\n",
              "    border-radius: 50%;\n",
              "    cursor: pointer;\n",
              "    display: none;\n",
              "    fill: #1967D2;\n",
              "    height: 32px;\n",
              "    padding: 0 0 0 0;\n",
              "    width: 32px;\n",
              "  }\n",
              "\n",
              "  .colab-df-quickchart:hover {\n",
              "    background-color: #E2EBFA;\n",
              "    box-shadow: 0px 1px 2px rgba(60, 64, 67, 0.3), 0px 1px 3px 1px rgba(60, 64, 67, 0.15);\n",
              "    fill: #174EA6;\n",
              "  }\n",
              "\n",
              "  [theme=dark] .colab-df-quickchart {\n",
              "    background-color: #3B4455;\n",
              "    fill: #D2E3FC;\n",
              "  }\n",
              "\n",
              "  [theme=dark] .colab-df-quickchart:hover {\n",
              "    background-color: #434B5C;\n",
              "    box-shadow: 0px 1px 3px 1px rgba(0, 0, 0, 0.15);\n",
              "    filter: drop-shadow(0px 1px 2px rgba(0, 0, 0, 0.3));\n",
              "    fill: #FFFFFF;\n",
              "  }\n",
              "</style>\n",
              "\n",
              "    <script>\n",
              "      async function quickchart(key) {\n",
              "        const containerElement = document.querySelector('#' + key);\n",
              "        const charts = await google.colab.kernel.invokeFunction(\n",
              "            'suggestCharts', [key], {});\n",
              "      }\n",
              "    </script>\n",
              "\n",
              "      <script>\n",
              "\n",
              "function displayQuickchartButton(domScope) {\n",
              "  let quickchartButtonEl =\n",
              "    domScope.querySelector('#df-5b9ef1a1-8815-4330-b1df-ba953c011177 button.colab-df-quickchart');\n",
              "  quickchartButtonEl.style.display =\n",
              "    google.colab.kernel.accessAllowed ? 'block' : 'none';\n",
              "}\n",
              "\n",
              "        displayQuickchartButton(document);\n",
              "      </script>\n",
              "      <style>\n",
              "    .colab-df-container {\n",
              "      display:flex;\n",
              "      flex-wrap:wrap;\n",
              "      gap: 12px;\n",
              "    }\n",
              "\n",
              "    .colab-df-convert {\n",
              "      background-color: #E8F0FE;\n",
              "      border: none;\n",
              "      border-radius: 50%;\n",
              "      cursor: pointer;\n",
              "      display: none;\n",
              "      fill: #1967D2;\n",
              "      height: 32px;\n",
              "      padding: 0 0 0 0;\n",
              "      width: 32px;\n",
              "    }\n",
              "\n",
              "    .colab-df-convert:hover {\n",
              "      background-color: #E2EBFA;\n",
              "      box-shadow: 0px 1px 2px rgba(60, 64, 67, 0.3), 0px 1px 3px 1px rgba(60, 64, 67, 0.15);\n",
              "      fill: #174EA6;\n",
              "    }\n",
              "\n",
              "    [theme=dark] .colab-df-convert {\n",
              "      background-color: #3B4455;\n",
              "      fill: #D2E3FC;\n",
              "    }\n",
              "\n",
              "    [theme=dark] .colab-df-convert:hover {\n",
              "      background-color: #434B5C;\n",
              "      box-shadow: 0px 1px 3px 1px rgba(0, 0, 0, 0.15);\n",
              "      filter: drop-shadow(0px 1px 2px rgba(0, 0, 0, 0.3));\n",
              "      fill: #FFFFFF;\n",
              "    }\n",
              "  </style>\n",
              "\n",
              "      <script>\n",
              "        const buttonEl =\n",
              "          document.querySelector('#df-deb361d6-0903-492e-9a98-35297ebf625e button.colab-df-convert');\n",
              "        buttonEl.style.display =\n",
              "          google.colab.kernel.accessAllowed ? 'block' : 'none';\n",
              "\n",
              "        async function convertToInteractive(key) {\n",
              "          const element = document.querySelector('#df-deb361d6-0903-492e-9a98-35297ebf625e');\n",
              "          const dataTable =\n",
              "            await google.colab.kernel.invokeFunction('convertToInteractive',\n",
              "                                                     [key], {});\n",
              "          if (!dataTable) return;\n",
              "\n",
              "          const docLinkHtml = 'Like what you see? Visit the ' +\n",
              "            '<a target=\"_blank\" href=https://colab.research.google.com/notebooks/data_table.ipynb>data table notebook</a>'\n",
              "            + ' to learn more about interactive tables.';\n",
              "          element.innerHTML = '';\n",
              "          dataTable['output_type'] = 'display_data';\n",
              "          await google.colab.output.renderOutput(dataTable, element);\n",
              "          const docLink = document.createElement('div');\n",
              "          docLink.innerHTML = docLinkHtml;\n",
              "          element.appendChild(docLink);\n",
              "        }\n",
              "      </script>\n",
              "    </div>\n",
              "  </div>\n"
            ]
          },
          "metadata": {},
          "execution_count": 3
        }
      ]
    },
    {
      "cell_type": "code",
      "source": [
        "\n",
        "A = '# Cria o modelo passado como parametro'\n",
        "A.upper()"
      ],
      "metadata": {
        "colab": {
          "base_uri": "https://localhost:8080/",
          "height": 35
        },
        "id": "nZTsfbBPkqJF",
        "outputId": "e0a1ed47-8f56-4ce2-9880-1b5f479c8e40"
      },
      "execution_count": null,
      "outputs": [
        {
          "output_type": "execute_result",
          "data": {
            "text/plain": [
              "'# CRIA O MODELO PASSADO COMO PARAMETRO'"
            ],
            "application/vnd.google.colaboratory.intrinsic+json": {
              "type": "string"
            }
          },
          "metadata": {},
          "execution_count": 47
        }
      ]
    },
    {
      "cell_type": "markdown",
      "source": [
        "## **Utils**\n",
        "\n",
        "\n",
        "---\n",
        "\n"
      ],
      "metadata": {
        "id": "eOsV8rfO2vmQ"
      }
    },
    {
      "cell_type": "code",
      "source": [
        "import warnings\n",
        "\n",
        "import matplotlib.pyplot as plt\n",
        "import seaborn as sns\n",
        "import pandas as pd\n",
        "\n",
        "import numpy as np\n",
        "from sklearn.metrics import accuracy_score, confusion_matrix, classification_report\n",
        "from sklearn.exceptions import UndefinedMetricWarning\n",
        "\n",
        "# Ignorar os avisos específicos\n",
        "warnings.filterwarnings('ignore', category=UndefinedMetricWarning)\n",
        "\n",
        "\n",
        "# PARA REMOVER AS FEATURES ALTAMENTE CORRELACIONADAS COM O LIMITE DE CORRELAÇÃO DE 0.92:\n",
        "def remove_highly_correlated_features(df, correlation_threshold=0.92):\n",
        "    # Calcula a matriz de correlação\n",
        "    corr_matrix = df.corr().abs()\n",
        "\n",
        "    # Cria uma máscara triangular superior\n",
        "    mask = np.triu(np.ones_like(corr_matrix, dtype=bool))\n",
        "\n",
        "    # Aplica a máscara para criar a matriz de correlação triangular\n",
        "    tri_df = corr_matrix.mask(mask)\n",
        "\n",
        "    # Encontra as colunas com correlação acima do limite\n",
        "    to_drop = [col for col in tri_df.columns if any(tri_df[col] > correlation_threshold)]\n",
        "\n",
        "    # Remove as colunas altamente correlacionadas do DataFrame\n",
        "    df = df.drop(to_drop, axis=1)\n",
        "    return df\n",
        "\n",
        "\n",
        "\n",
        "\n",
        "# NORMALIZA OS DADOS PARA PRODUZIOR RESULTADOS MAIS CONSISTENTES\n",
        "def data_preprocess(X_data,y_data, df0):\n",
        "  from sklearn.preprocessing import StandardScaler\n",
        "\n",
        "  # Agora 'df0' conterá o DataFrame após a remoção das colunas altamente correlacionadas.\n",
        "  df0 = remove_highly_correlated_features(df0, correlation_threshold=0.92)\n",
        "  # divide os dados em um conjunto de treinamento e um conjunto de teste.\n",
        "  X_train, X_test, y_train, y_test = train_test_split(X_data, y_data.values.ravel(), test_size=0.3, random_state=42)\n",
        "\n",
        "  # padroniza as variáveis preditoras, transformando-as em média zero e variância unitária\n",
        "  # Isso ajuda a evitar que uma variável com uma escala maior tenha mais influência\n",
        "  # no modelo do que as outras variáveis.\n",
        "  scaler = StandardScaler(copy=True, with_mean=True, with_std=True)\n",
        "\n",
        "  # ajusta o scaler no conjunto de treinamento usando o método \"fit\"\n",
        "  '''\n",
        "   o ajuste é necessário para que a normalização dos dados seja feita\n",
        "   corretamente no conjunto de treinamento, permitindo que o modelo\n",
        "   generalize bem em novos dados.\n",
        "\n",
        "  '''\n",
        "  scaler.fit(X_train)\n",
        "\n",
        "  # Agora aplica as transformações aos dados:\n",
        "  # É feita para que que as variáveis tenham mesma escala e a mesma ordem de grandeza.\n",
        "  train_scaled = scaler.transform(X_train)\n",
        "  test_scaled = scaler.transform(X_test)\n",
        "  return(train_scaled, test_scaled, y_train, y_test)\n",
        "\n",
        "\n",
        "# PLOTA A MATRIZ DE CONFUSÃO DOS DADOS DE TESTE E TREINO\n",
        "def getResults(x_test, y_test, model, model_name='arv'):\n",
        "  '''\n",
        "  Args:\n",
        "    x: pode ser x_test ou x_train\n",
        "    y: pode ser y_test ou y_train\n",
        "    model: modelo de treinamento que o conjunto de dados esta sendo submetido\n",
        "    model_name: nome do modelo para visualizar a matrix de confusão\n",
        "      ->'arv'    : árvore de decisão\n",
        "      ->'baysian': Baysiano ingênuo\n",
        "      ->'reglog' : Regressão logística\n",
        "      ->'kviz\"   : K-vizinhos\n",
        "\n",
        "  Returns:\n",
        "    Matrix de confusão do modelo passado\n",
        "\n",
        "  '''\n",
        "\n",
        "  def get_model(model_name):\n",
        "    print(\"Modelo:\", model_name)\n",
        "    predicted = model.predict(x_test)\n",
        "    print(\"Acurácia:\", accuracy_score(y_test, predicted), \"\\n\")\n",
        "\n",
        "    # Matriz de Confusão\n",
        "    cm = confusion_matrix(y_test, predicted)\n",
        "    TP = cm[0][0] # True positive\n",
        "    FP = cm[0][1] # False positive\n",
        "    FN = cm[1][0] # False negative\n",
        "    TN = cm[1][1] # True negative\n",
        "\n",
        "    # Calculation of accuracy ( for to query effect)\n",
        "    accuracy =  (TP + TN)/(TP + FP + FN + TN)\n",
        "\n",
        "    labels = ['M = malignant','B = benign']\n",
        "\n",
        "    plt.figure()\n",
        "    ax = plt.subplot()\n",
        "    sns.heatmap(cm, annot=True, fmt='d', cmap='Blues', center=True)\n",
        "    plt.title(f\"Matriz de Confusão - {model_name}\")\n",
        "    plt.xlabel('Predito')\n",
        "    plt.ylabel('Verdadeiro')\n",
        "    ax.xaxis.set_ticklabels(labels); ax.yaxis.set_ticklabels(labels);\n",
        "    plt.show()\n",
        "\n",
        "    # Relatório de Classificação\n",
        "    class_report = classification_report(y_test, predicted)\n",
        "    print(\"\\n############___Relatório de Classificação___############:\\n\")\n",
        "    print(class_report)\n",
        "    print(\"\\n-------------------------------------------------------\\n\")\n",
        "\n",
        "\n",
        "  if model_name == 'arv':\n",
        "    name = \"Árvore de Decisão\"\n",
        "    get_model(name)\n",
        "\n",
        "  elif model_name == 'baysian':\n",
        "    name = \"Bayesiano Ingênuo\"\n",
        "    get_model(name)\n",
        "\n",
        "  elif model_name == 'reglog':\n",
        "    name = \"Regressão Logística\"\n",
        "    get_model(name)\n",
        "\n",
        "  elif model_name == 'kviz':\n",
        "    name = \"K-vizinhos\"\n",
        "    get_model(name)\n",
        "\n",
        "  else:\n",
        "    print(\"Unknow model\\n\")\n",
        "\n",
        "\n",
        "\n",
        "# MOSTRA O BALANCEAMENTO DO TARGET EM RELAÇÃO AO CONJUNTO DE DADOS\n",
        "def showBalance(target=\"Diagnosis\"):\n",
        "  import seaborn as sns\n",
        "  # Definindo cores para as barras\n",
        "  colors = [\"skyblue\", \"salmon\"]\n",
        "\n",
        "  # plt.figure(figsize=(8, 4))\n",
        "  sns.countplot(data=df0, x=target, palette=colors)\n",
        "\n",
        "\n",
        "\n",
        "  # Adicionando títulos\n",
        "  plt.title(\"Número de casos Benigno e Maligno\")\n",
        "  plt.xlabel(\"Diagnóstico\")\n",
        "  plt.ylabel(\"Contagem\")\n",
        "\n",
        "  plt.show()\n",
        "\n",
        "\n",
        "# BALECEIA DOS DADOS DE TREINO DO CONJUNTO DE DADOS PARA GARANTIR QUE O MODELO ESTÁ PERFORMANDO BEM\n",
        "def cross_validation(model, X, y, oversampling=False):\n",
        "  # Kfold do scikit-Learn\n",
        "  from sklearn.model_selection import KFold\n",
        "  from sklearn.metrics import accuracy_score\n",
        "  from imblearn.over_sampling import SMOTE\n",
        "\n",
        "  from statistics import mean\n",
        "\n",
        "\n",
        "  # Returns the number of splitting iterations in the cross-validator\n",
        "  kfold = KFold(n_splits=10)\n",
        "\n",
        "\n",
        "  #listas de acurácias de cada split:\n",
        "  accuracy_split = []\n",
        "\n",
        "  # Iterando sobre os splits\n",
        "  for idx, (idx_train, idx_validation) in enumerate(kfold.split(X)):\n",
        "    X_split_train = X.iloc[idx_train, :]\n",
        "    y_split_train = y.iloc[idx_train]\n",
        "\n",
        "    # Oversample só no split de treine:\n",
        "    if oversampling:\n",
        "      sm = SMOTE(random_state=42)\n",
        "      #balanceamento no treino\n",
        "      X_split_train, y_split_train = sm.fit_resample(X_split_train, y_split_train)\n",
        "\n",
        "    # Treinando modelo com dados balaceado só no treino\n",
        "    model.fit(X_split_train, y_split_train.values.flatten())\n",
        "\n",
        "    # Não aplicamo SMOT na validação\n",
        "    X_split_validation = X.iloc[idx_validation, :]\n",
        "    y_split_validation = y.iloc[idx_validation]\n",
        "\n",
        "    #Validação SEM oversample (AMOSTRA com dados desbalanceados)\n",
        "    predict_validation = model.predict(X_split_validation)\n",
        "\n",
        "    accuracy = accuracy_score(y_split_validation, predict_validation)\n",
        "    accuracy_split.append(accuracy)\n",
        "\n",
        "    print(f\"Accuracy do split {idx}: {accuracy}\")\n",
        "\n",
        "  return mean(accuracy_split)\n",
        "\n",
        "\n",
        "# CRIA O MODELO PASSADO COMO PARAMETRO\n",
        "def models(X_train, Y_train, model='reglog', n_neighbors=5):\n",
        "  '''\n",
        "  Args:\n",
        "    x: x_train dados de treino\n",
        "    y: y_train dados de treino\n",
        "    model: modelo de treinamento que o conjunto de dados esta sendo submetido\n",
        "      ->'arv'    : árvore de decisão\n",
        "      ->'baysian': Baysiano ingênuo\n",
        "      ->'reglog' : Regressão logística\n",
        "      ->'kviz\"   : K-vizinhos\n",
        "\n",
        "  Returns:\n",
        "    Modelo treinado com um dos algoritmos passados\n",
        "  '''\n",
        "\n",
        "  if model == 'reglog':\n",
        "    #Logistic Regression\n",
        "    from sklearn.linear_model import LogisticRegression\n",
        "    log = LogisticRegression()\n",
        "    log.fit(X_train, Y_train)\n",
        "    print('Logistic Regression Training Accuracy : ',log.score(X_train, Y_train))\n",
        "    return log\n",
        "\n",
        "  elif model == 'arv':\n",
        "    #Decision Tree\n",
        "    from sklearn.tree import DecisionTreeClassifier\n",
        "    tree = DecisionTreeClassifier()\n",
        "    tree.fit(X_train, Y_train)\n",
        "    print('Decision Tree Training Accuracy : ',tree.score(X_train, Y_train))\n",
        "    return tree\n",
        "\n",
        "  elif  model == 'baysian':\n",
        "    #Naive Bayesian\n",
        "    from sklearn.naive_bayes import GaussianNB\n",
        "    baysian = GaussianNB()\n",
        "    baysian.fit(X_train, Y_train)\n",
        "    print('Naive Bayesian Training Accuracy : ',baysian.score(X_train, Y_train))\n",
        "    return baysian\n",
        "\n",
        "\n",
        "  elif model == 'kviz':\n",
        "    # K-neighbors\n",
        "    knn = KNeighborsClassifier(n_neighbors=n_neighbors)  # Defina o número de vizinhos (k) conforme necessário\n",
        "    knn.fit(X_train, y_train)\n",
        "    print('K-neighbors Training Accuracy : ',knn.score(X_train, Y_train))\n",
        "    return knn\n",
        "\n",
        "  else:\n",
        "    return ValueError(\"unknown type algoritme \\n\")\n",
        "\n"
      ],
      "metadata": {
        "id": "YaxQx7162y7N"
      },
      "execution_count": null,
      "outputs": []
    },
    {
      "cell_type": "markdown",
      "source": [
        "## **Árvore de decisão**\n",
        "\n",
        "---\n",
        "\n",
        "\n"
      ],
      "metadata": {
        "id": "5WDAso_CcK5h"
      }
    },
    {
      "cell_type": "markdown",
      "source": [
        "#### **O modelo árvore de decisão**\n",
        "A árvore de decisão é um algoritmo de aprendizado de máquina que cria uma estrutura de árvore para fazer decisões com base nas características dos dados. O algoritmo pode ser usado tanto para problemas de classificação quanto de regressão.\n",
        "\n",
        "\n",
        "1. **Entropia:**\n",
        "A entropia é uma medida da impureza do conjunto de dados. Em um contexto de classificação binária, a entropia é calculada para o conjunto de dados S em relação à classe-alvo binária {0, 1}.\n",
        "\n",
        "   Fórmula da entropia:\n",
        "   $$ Entropia(S) = -p_1 \\log_2(p_1) - p_0 \\log_2(p_0) $$\n",
        "\n",
        "   onde:\n",
        "   - $p_1$ é a proporção de amostras da classe positiva (1) em S.\n",
        "   - $p_0$ é a proporção de amostras da classe negativa (0) em S.\n",
        "\n",
        "\n",
        "2. **Ganho de Informação:**\n",
        "O ganho de informação é usado para avaliar a importância de um atributo para dividir os dados em um nó. Quanto maior o ganho de informação, mais informativo é o atributo.\n",
        "\n",
        "   Fórmula do ganho de informação:\n",
        "   $$ Ganho(S, A) = Entropia(S) - \\sum_{v \\in valores(A)} \\dfrac{|S_v|}{|S|} \\cdot Entropia(S_v) $$\n",
        "\n",
        "   onde:\n",
        "   - $A$ é um atributo em relação ao qual queremos calcular o ganho.\n",
        "   - $S$ é o conjunto de dados no nó atual.\n",
        "   - $valores(A)$ é o conjunto de valores possíveis do atributo A.\n",
        "   - $S_v$ é o subconjunto de dados onde o atributo A tem valor v.\n",
        "\n",
        "\n",
        "3. **Algoritmo de Construção da Árvore de Decisão:**\n",
        "\n",
        "   - Inicialmente, a árvore começa com um nó raiz que contém todo o conjunto de dados de treinamento.\n",
        "   - O algoritmo seleciona o melhor atributo (aquele que possui o maior ganho de informação) para dividir o conjunto de dados no nó atual.\n",
        "   - A árvore é dividida em ramos correspondentes aos diferentes valores do atributo selecionado.\n",
        "   - O algoritmo repete o processo em cada nó filho (subconjunto de dados) até que uma condição de parada seja atingida (por exemplo, profundidade máxima da árvore, número mínimo de amostras em um nó, etc.).\n",
        "   - Para problemas de classificação, o nó folha é atribuído à classe majoritária do conjunto de dados correspondente.\n",
        "   - Para problemas de regressão, o nó folha é atribuído à média ou mediana dos rótulos do conjunto de dados correspondente.\n",
        "   \n",
        "\n",
        "#### **Ajustes no Treinamento**\n",
        "\n",
        "Métricas de avaliação:\n",
        "As métricas de avaliação ajudam a medir o desempenho do modelo de árvore de decisão em relação aos dados de teste. Algumas das métricas comuns são:\n",
        "\n",
        "1. Acurácia: A acurácia mede a proporção de previsões corretas em relação ao número total de amostras. É útil para problemas de classificação.\n",
        "\n",
        "2. Erro absoluto médio (MAE): O MAE mede a média das diferenças absolutas entre as previsões do modelo e os valores reais. É útil para problemas de regressão.\n",
        "\n",
        "3. Erro quadrático médio (MSE): O MSE mede a média dos quadrados das diferenças entre as previsões do modelo e os valores reais. É outra métrica comumente usada para problemas de regressão.\n",
        "\n",
        "4. Raiz do erro quadrático médio (RMSE): O RMSE é simplesmente a raiz quadrada do MSE e também é usado em problemas de regressão.\n",
        "\n",
        "5. Curva ROC e Área sob a curva (AUC-ROC): São métricas usadas para problemas de classificação binária, que ajudam a medir a capacidade do modelo de distinguir entre as duas classes. A curva ROC (Receiver Operating Characteristic) é um gráfico da taxa de verdadeiros positivos (TPR) em função da taxa de falsos positivos (FPR) à medida que o limite de decisão do modelo é variado. A AUC-ROC é a área sob essa curva e varia de 0 a 1, sendo 1 indicativo de um modelo perfeito.\n",
        "\n",
        "6. Precisão, Recall e F1-Score: São métricas úteis para problemas de classificação binária. A precisão mede a proporção de verdadeiros positivos em relação ao número total de previsões positivas do modelo. O recall mede a proporção de verdadeiros positivos em relação ao número total de amostras positivas. O F1-Score é a média harmônica entre precisão e recall.\n",
        "\n",
        "Essas são apenas algumas das métricas de avaliação disponíveis para o modelo de árvore de decisão. A escolha da métrica apropriada depende do tipo de problema (classificação ou regressão) e dos requisitos específicos do projeto.\n"
      ],
      "metadata": {
        "id": "s2NdzXyouzWG"
      }
    },
    {
      "cell_type": "markdown",
      "source": [
        "### **Aplicando regressão sem pré-processamento**\n",
        " Hirperparametros padrão:"
      ],
      "metadata": {
        "id": "NwOKX7AglPO3"
      }
    },
    {
      "cell_type": "code",
      "source": [
        "# Árvore de Decisão\n",
        "dt_clf = DecisionTreeClassifier() #critério que o algorimo está usando entropia\n",
        "dt_clf.fit(X_train, y_train)\n",
        "\n",
        "dt_predictions = dt_clf.predict(X_test)\n",
        "dt_accuracy = accuracy_score(y_test, dt_predictions)\n",
        "print(\"Acurácia (Árvore de Decisão):\", dt_accuracy)"
      ],
      "metadata": {
        "colab": {
          "base_uri": "https://localhost:8080/"
        },
        "outputId": "5f4ac679-3492-4136-d8c8-ff2a718ede49",
        "id": "C7sBrcITlPPB"
      },
      "execution_count": null,
      "outputs": [
        {
          "output_type": "stream",
          "name": "stdout",
          "text": [
            "Acurácia (Árvore de Decisão): 0.9239766081871345\n"
          ]
        }
      ]
    },
    {
      "cell_type": "markdown",
      "source": [
        "#### **Conjunto de teste**\n",
        "\n",
        "---\n",
        "\n"
      ],
      "metadata": {
        "id": "mO0G34HGlPPB"
      }
    },
    {
      "cell_type": "code",
      "source": [
        "# Matriz de confusão para o conjunto de teste\n",
        "getResults(X_test, y_test, dt_clf, model_name='arv')"
      ],
      "metadata": {
        "colab": {
          "base_uri": "https://localhost:8080/"
        },
        "outputId": "6c6e6e22-5009-4900-87fc-16b076241bba",
        "id": "1qkznS_1lPPB"
      },
      "execution_count": null,
      "outputs": [
        {
          "output_type": "stream",
          "name": "stdout",
          "text": [
            "Modelo: Árvore de Decisão\n",
            "Acurácia: 0.9239766081871345 \n",
            "\n"
          ]
        },
        {
          "output_type": "display_data",
          "data": {
            "text/plain": [
              "<Figure size 640x480 with 2 Axes>"
            ],
            "image/png": "[encoded data removed]"
          },
          "metadata": {}
        },
        {
          "output_type": "stream",
          "name": "stdout",
          "text": [
            "\n",
            "############___Relatório de Classificação___############:\n",
            "\n",
            "              precision    recall  f1-score   support\n",
            "\n",
            "           B       0.94      0.93      0.94       103\n",
            "           M       0.90      0.91      0.91        68\n",
            "\n",
            "    accuracy                           0.92       171\n",
            "   macro avg       0.92      0.92      0.92       171\n",
            "weighted avg       0.92      0.92      0.92       171\n",
            "\n",
            "\n",
            "-------------------------------------------------------\n",
            "\n"
          ]
        }
      ]
    },
    {
      "cell_type": "markdown",
      "source": [
        "#### **Conjunto de treino**\n",
        "\n",
        "---\n",
        "\n"
      ],
      "metadata": {
        "id": "5vMxuSXglPPC"
      }
    },
    {
      "cell_type": "code",
      "source": [
        "# Matriz de confusão para o conjunto de teste\n",
        "getResults(X_train, y_train, dt_clf, model_name='arv')"
      ],
      "metadata": {
        "colab": {
          "base_uri": "https://localhost:8080/"
        },
        "outputId": "592a5618-7c5d-4c04-8385-862dac59019f",
        "id": "cX_FyYkTlPPC"
      },
      "execution_count": null,
      "outputs": [
        {
          "output_type": "stream",
          "name": "stdout",
          "text": [
            "Modelo: Árvore de Decisão\n",
            "Acurácia: 1.0 \n",
            "\n"
          ]
        },
        {
          "output_type": "display_data",
          "data": {
            "text/plain": [
              "<Figure size 640x480 with 2 Axes>"
            ],
            "image/png": "[encoded data removed]"
          },
          "metadata": {}
        },
        {
          "output_type": "stream",
          "name": "stdout",
          "text": [
            "\n",
            "############___Relatório de Classificação___############:\n",
            "\n",
            "              precision    recall  f1-score   support\n",
            "\n",
            "           B       1.00      1.00      1.00       254\n",
            "           M       1.00      1.00      1.00       143\n",
            "\n",
            "    accuracy                           1.00       397\n",
            "   macro avg       1.00      1.00      1.00       397\n",
            "weighted avg       1.00      1.00      1.00       397\n",
            "\n",
            "\n",
            "-------------------------------------------------------\n",
            "\n"
          ]
        }
      ]
    },
    {
      "cell_type": "markdown",
      "source": [
        "#### **Aplicando Oversampling no conjunto de treino**\n",
        "\n",
        "---"
      ],
      "metadata": {
        "id": "ySilFG55lPPC"
      }
    },
    {
      "cell_type": "code",
      "source": [
        "mean_accuracy_without_smote = cross_validation(dt_clf, X_train, y_train)\n",
        "print(mean_accuracy_without_smote)\n",
        "print()\n",
        "mean_accuracy_with_smote = cross_validation(dt_clf, X_train, y_train, oversampling=True)\n",
        "mean_accuracy_with_smote"
      ],
      "metadata": {
        "colab": {
          "base_uri": "https://localhost:8080/"
        },
        "outputId": "88db0055-10e3-456b-ea11-95e0629423b5",
        "id": "l2wqFFGalPPC"
      },
      "execution_count": null,
      "outputs": [
        {
          "output_type": "stream",
          "name": "stdout",
          "text": [
            "Accuracy do split 0: 0.975\n",
            "Accuracy do split 1: 0.9\n",
            "Accuracy do split 2: 0.925\n",
            "Accuracy do split 3: 0.925\n",
            "Accuracy do split 4: 0.925\n",
            "Accuracy do split 5: 0.825\n",
            "Accuracy do split 6: 0.875\n",
            "Accuracy do split 7: 0.9230769230769231\n",
            "Accuracy do split 8: 0.9743589743589743\n",
            "Accuracy do split 9: 0.9487179487179487\n",
            "0.9196153846153846\n",
            "\n",
            "Accuracy do split 0: 0.95\n",
            "Accuracy do split 1: 0.9\n",
            "Accuracy do split 2: 0.95\n",
            "Accuracy do split 3: 0.925\n",
            "Accuracy do split 4: 0.9\n",
            "Accuracy do split 5: 0.9\n",
            "Accuracy do split 6: 0.875\n",
            "Accuracy do split 7: 0.9230769230769231\n",
            "Accuracy do split 8: 1.0\n",
            "Accuracy do split 9: 1.0\n"
          ]
        },
        {
          "output_type": "execute_result",
          "data": {
            "text/plain": [
              "0.9323076923076923"
            ]
          },
          "metadata": {},
          "execution_count": 76
        }
      ]
    },
    {
      "cell_type": "markdown",
      "source": [
        "Árvore de decisão é um algoritmo de aprendizado de máquina supervisionado utilizado para modelar problemas de classificação e regressão. É uma técnica de análise preditiva que utiliza uma estrutura de árvore para representar um conjunto de decisões e suas possíveis consequências.\n",
        "\n",
        "A árvore de decisão é construída a partir de um conjunto de dados de treinamento, onde cada exemplo é caracterizado por um conjunto de atributos e uma classe correspondente. A árvore é construída recursivamente, dividindo o conjunto de dados em subconjuntos menores com base em determinados critérios, até que os subconjuntos sejam o mais puro possível em relação à classe de destino.\n",
        "\n",
        "Uma vez construída a árvore, ela pode ser usada para classificar novos exemplos, seguindo o caminho correspondente na árvore com base nos seus atributos. As árvores de decisão são amplamente utilizadas em áreas como análise de dados, reconhecimento de padrões, diagnóstico médico e tomada de decisão empresarial"
      ],
      "metadata": {
        "id": "DQjkisGBdGIh"
      }
    },
    {
      "cell_type": "markdown",
      "source": [
        "### **Aplicando regressão com pré-processamento**\n",
        " Hirperparametros modificados:"
      ],
      "metadata": {
        "id": "93BqF6krqc8B"
      }
    },
    {
      "cell_type": "code",
      "source": [
        "# dados normalizados\n",
        "train_scaled, test_scaled, y_train_scaled, y_test_scaled = data_preprocess(X, y)"
      ],
      "metadata": {
        "id": "jYQAlIP1qc8K"
      },
      "execution_count": null,
      "outputs": []
    },
    {
      "cell_type": "markdown",
      "source": [
        "#### **Conjunto de treino**\n",
        "\n",
        "---\n",
        "\n"
      ],
      "metadata": {
        "id": "YllgKN7Pqc8L"
      }
    },
    {
      "cell_type": "code",
      "source": [
        "arv = DecisionTreeClassifier(max_depth=5, criterion='entropy') #critério que o algorimo está usando entropia\n",
        "arv.fit(train_scaled, y_train_scaled);\n",
        "score = arv.score(train_scaled, y_train_scaled)\n",
        "print(f'Accuracy no conjunto de treino: {score:.5f}')"
      ],
      "metadata": {
        "colab": {
          "base_uri": "https://localhost:8080/"
        },
        "outputId": "0f51d69d-14f0-476a-bd1d-b194463eb2d5",
        "id": "TiFDb-Jmqc8L"
      },
      "execution_count": null,
      "outputs": [
        {
          "output_type": "stream",
          "name": "stdout",
          "text": [
            "Accuracy no conjunto de treino: 1.00000\n"
          ]
        }
      ]
    },
    {
      "cell_type": "code",
      "source": [
        "getResults(train_scaled, y_train_scaled, arv, model_name='arv')"
      ],
      "metadata": {
        "colab": {
          "base_uri": "https://localhost:8080/"
        },
        "outputId": "6295c5da-e73a-4521-9b6a-160273427c1a",
        "id": "FMkPgrQlqc8L"
      },
      "execution_count": null,
      "outputs": [
        {
          "output_type": "stream",
          "name": "stdout",
          "text": [
            "Modelo: Árvore de Decisão\n",
            "Acurácia: 1.0 \n",
            "\n"
          ]
        },
        {
          "output_type": "display_data",
          "data": {
            "text/plain": [
              "<Figure size 640x480 with 2 Axes>"
            ],
            "image/png": "[encoded data removed]"
          },
          "metadata": {}
        },
        {
          "output_type": "stream",
          "name": "stdout",
          "text": [
            "\n",
            "############___Relatório de Classificação___############:\n",
            "\n",
            "              precision    recall  f1-score   support\n",
            "\n",
            "           B       1.00      1.00      1.00       254\n",
            "           M       1.00      1.00      1.00       143\n",
            "\n",
            "    accuracy                           1.00       397\n",
            "   macro avg       1.00      1.00      1.00       397\n",
            "weighted avg       1.00      1.00      1.00       397\n",
            "\n",
            "\n",
            "-------------------------------------------------------\n",
            "\n"
          ]
        }
      ]
    },
    {
      "cell_type": "markdown",
      "source": [
        "#### **Conjunto de teste**\n",
        "\n",
        "---\n",
        "\n"
      ],
      "metadata": {
        "id": "QB-m_K2Yqc8L"
      }
    },
    {
      "cell_type": "code",
      "source": [
        "arv = DecisionTreeClassifier(max_depth=5, criterion='entropy') #critério que o algorimo está usando entropia\n",
        "arv.fit(test_scaled, y_test_scaled);\n",
        "score = arv.score(test_scaled, y_test_scaled)\n",
        "print(f'Accuracy no conjunto de treino: {score:.5f}')"
      ],
      "metadata": {
        "colab": {
          "base_uri": "https://localhost:8080/"
        },
        "outputId": "dee3f267-cfcd-4fcb-f9ab-86184aa9c126",
        "id": "ip8ztDk5qc8M"
      },
      "execution_count": null,
      "outputs": [
        {
          "output_type": "stream",
          "name": "stdout",
          "text": [
            "Accuracy no conjunto de treino: 0.98830\n"
          ]
        }
      ]
    },
    {
      "cell_type": "code",
      "source": [
        "getResults(test_scaled, y_test_scaled, arv, model_name='arv')"
      ],
      "metadata": {
        "colab": {
          "base_uri": "https://localhost:8080/"
        },
        "outputId": "0a6c8918-9a30-469a-b927-e4f311759772",
        "id": "9fdaTBu1qc8M"
      },
      "execution_count": null,
      "outputs": [
        {
          "output_type": "stream",
          "name": "stdout",
          "text": [
            "Modelo: Árvore de Decisão\n",
            "Acurácia: 0.9883040935672515 \n",
            "\n"
          ]
        },
        {
          "output_type": "display_data",
          "data": {
            "text/plain": [
              "<Figure size 640x480 with 2 Axes>"
            ],
            "image/png": "[encoded data removed]"
          },
          "metadata": {}
        },
        {
          "output_type": "stream",
          "name": "stdout",
          "text": [
            "\n",
            "############___Relatório de Classificação___############:\n",
            "\n",
            "              precision    recall  f1-score   support\n",
            "\n",
            "           B       0.98      1.00      0.99       103\n",
            "           M       1.00      0.97      0.99        68\n",
            "\n",
            "    accuracy                           0.99       171\n",
            "   macro avg       0.99      0.99      0.99       171\n",
            "weighted avg       0.99      0.99      0.99       171\n",
            "\n",
            "\n",
            "-------------------------------------------------------\n",
            "\n"
          ]
        }
      ]
    },
    {
      "cell_type": "code",
      "source": [],
      "metadata": {
        "id": "gc4NLl_sqbAm"
      },
      "execution_count": null,
      "outputs": []
    },
    {
      "cell_type": "markdown",
      "source": [
        "## **Bayesiano ingenuo**\n",
        "\n",
        "---\n",
        "\n",
        "\n"
      ],
      "metadata": {
        "id": "780TOrBdcWiQ"
      }
    },
    {
      "cell_type": "markdown",
      "source": [
        "\n",
        "## **Regressão logística**\n",
        "\n",
        "---\n",
        "\n",
        "\n"
      ],
      "metadata": {
        "id": "Jvr2Cq1ZcbW8"
      }
    },
    {
      "cell_type": "markdown",
      "source": [
        "O processo de treinamento do modelo de regressão logística envolve a utilização de um conjunto de dados de treinamento, do kaggle, que inclui informações sobre a ocorrência câncer a partir de 31 variáveis ​​explicativas associadas a cada indivíduo. O modelo é ajustado aos dados de treinamento e, em seguida, é avaliado usando um conjunto de dados de teste separado para verificar a precisão das previsões.\n",
        "\n",
        "A linguagem de programação Python será usada para implementar esse modelo de regressão logística. A biblioteca Scikit-learn será a principal ferramenta que será usada para prover as previsões.\n",
        "\n",
        "O método de regressão logistica será usado como técnica para dizer se o modelo converge ou diverge, baseado no conjunto de dados fornecido, que consite em um **método linear generalizado (MLG)**.\n",
        "\n",
        "> Nelder, John; Wedderburn, Robert (1972). Generalized Linear Models. Blackwell Publishing. Journal of the Royal Statistical Society. Series A (General). 135: 370–384. JSTOR 2344614. doi:10.2307/2344614\n",
        "\n",
        "Os MLGs propõem a modelagem para variáveis na família exponencial de distribuições, que inclui:\n",
        "\n",
        "* Binomial (Bernoulli) [link](https://www.laboneconsultoria.com.br/distribuicao-binomial/)\n",
        "* Poisson [link](https://www.scribbr.com/statistics/poisson-distribution/)\n",
        "* Normal [link](https://en.wikipedia.org/wiki/Normal_distribution)\n",
        "* Binomial Negativa [link](https://en.wikipedia.org/wiki/Negative_binomial_distribution)\n",
        "* Gama  [link](https://en.wikipedia.org/wiki/Gamma_distribution)\n",
        "* Gaussiana Inversa [link](https://en.wikipedia.org/wiki/Inverse_Gaussian_distribution)\n",
        "* outras\n",
        "\n",
        "\n",
        "#### **O modelo de regressão logística:**\n",
        "\n",
        "Um dos modelos lineares mais utilizados é o modelo de regressão logística.\n",
        "\n",
        "Neste modelo, consideramos\n",
        "\n",
        "$$ Y_i = \\left \\{ \\begin{matrix} 1, & \\mbox{se }\\mbox{ o indivíduo i possui determinada característica} \\\\ 0, & \\mbox{se }\\mbox{ caso contrário} \\end{matrix} \\right. $$\n",
        "\n",
        "Supondo que $$P(X_i|Y_i) = π(X_i)$$ e que $$log\\left ( \\dfrac{π(x)}{1-π(x)} \\right ) = α + βx $$\n",
        "\n",
        "e queremos estimar os parâmetros $α$ e $β$ para compreender como $X_i$ e $Y_i$ estão associados.\n",
        "\n",
        "Suponha que $X_i = 1$ indique que o indivíduo $i$ possui um fator de risco para um a dor nas costas (indicada por $Y_i = 1)$\n",
        "e foram observados $n_1$ indivíduos com a presença deste fator, e $n_2$ indivíduos sem a presença deste fator ($X_i = 0)$\n",
        ".\n",
        "\n",
        "Para os indivíduos que possuiam o fator, a chance de desenvolvimento da doença fica:\n",
        "\n",
        "$$\\left ( \\dfrac{π(1)}{1-π(1)} \\right ) = e^{(α + βx)} $$\n",
        "\n",
        "enquanto que a chance de desenvolvimento da doença no indivíduo com ausência do fator é\n",
        "\n",
        "$$\\left ( \\dfrac{π(0)}{1-π(0)} \\right ) = e^{α} $$\n",
        "\n",
        "A razão de chances nesse caso fica\n",
        "\n",
        "$$  ϕ =  \\dfrac{π(1)/(1-π(1))}{π(0)/(1-π(0))} = e^{β} $$\n",
        "\n",
        "\n",
        "\n",
        "\n",
        "Portanto, são esses parametros e equações que estarão abstraidos no modelo\n",
        "\n",
        "#### **A qualidade do ajuste**\n",
        "\n",
        "\n",
        "A qualidade do ajuste pode ser avaliada com\n",
        "\n",
        "* [Análise de diagnóstico](https://datascience.eu/pt/aprendizado-de-maquina/entendendo-a-curva-auc-roc)*\n",
        "* [Resíduos ordinários](https://www.freecodecamp.org/portuguese/news/tipos-de-dados-em-estatistica-tipos-de-dados-nominais-ordinais-intervalares-e-proporcionais-explicados-com-exemplos/),\n",
        "* [Resíduos studentizados](https://storopoli.github.io/Estatistica/7-Regressao_Logistica.html),\n",
        "* [Pontos de alavanca](https://pt.wikipedia.org/wiki/Ponto_de_alavanca_(estat%C3%ADstica)),\n",
        "* [Distância de Cook](https://pt.wikipedia.org/wiki/Dist%C3%A2ncia_de_Cook)\n",
        "* Envelopes para os resíduos ([disponível em R )](https://www.ime.usp.br/~giapaula)\n",
        "* Deviance [(função desvio)](https://www.ime.usp.br/~giapaula/texto_2013.pdf)\n",
        "* Resíduo componente do desvio\n",
        "\n",
        "\n",
        "**Métricas de ajuste**\n",
        "\n",
        "* Erro absoluto médio\n",
        "* Erro quadrático médio\n",
        "* Raiz do erro quadrático médio\n"
      ],
      "metadata": {
        "id": "BdGwsvVM_h2I"
      }
    },
    {
      "cell_type": "markdown",
      "source": [
        "### **Aplicando regressão sem pré-processamento**\n",
        " Hirperparametros padrão:"
      ],
      "metadata": {
        "id": "gCIBSdFwxgl8"
      }
    },
    {
      "cell_type": "code",
      "source": [
        "# Regressão Logística\n",
        "lr_clf = LogisticRegression()\n",
        "lr_clf.fit(X_train, y_train);\n",
        "\n",
        "\n",
        "lr_predictions = lr_clf.predict(X_test)\n",
        "lr_accuracy = accuracy_score(y_test, lr_predictions)\n",
        "# Conjunto de teste\n",
        "print(\"Acurácia (Regressão Logística):\", lr_accuracy)\n"
      ],
      "metadata": {
        "colab": {
          "base_uri": "https://localhost:8080/"
        },
        "id": "tUge7S45x8uP",
        "outputId": "2aa2eea3-c74f-4acc-be67-6ce21d1d70d2"
      },
      "execution_count": null,
      "outputs": [
        {
          "output_type": "stream",
          "name": "stdout",
          "text": [
            "Acurácia (Regressão Logística): 0.6023391812865497\n"
          ]
        }
      ]
    },
    {
      "cell_type": "markdown",
      "source": [
        "#### **Conjunto de teste**\n",
        "\n",
        "---\n",
        "\n"
      ],
      "metadata": {
        "id": "uXQcXmdugVDC"
      }
    },
    {
      "cell_type": "code",
      "source": [
        "# Matriz de confusão para o conjunto de teste\n",
        "getResults(X_test, y_test, lr_clf, model_name='reglog')"
      ],
      "metadata": {
        "colab": {
          "base_uri": "https://localhost:8080/",
          "height": 784
        },
        "id": "6RL7zOMy63c2",
        "outputId": "bb7a4458-4921-4441-b6cb-11a97c94190c"
      },
      "execution_count": null,
      "outputs": [
        {
          "output_type": "stream",
          "name": "stdout",
          "text": [
            "Modelo: Regressão Logística\n",
            "Acurácia: 0.6023391812865497 \n",
            "\n"
          ]
        },
        {
          "output_type": "display_data",
          "data": {
            "text/plain": [
              "<Figure size 640x480 with 2 Axes>"
            ],
            "image/png": "[encoded data removed]"
          },
          "metadata": {}
        },
        {
          "output_type": "stream",
          "name": "stdout",
          "text": [
            "\n",
            "############___Relatório de Classificação___############:\n",
            "\n",
            "              precision    recall  f1-score   support\n",
            "\n",
            "           B       0.60      1.00      0.75       103\n",
            "           M       0.00      0.00      0.00        68\n",
            "\n",
            "    accuracy                           0.60       171\n",
            "   macro avg       0.30      0.50      0.38       171\n",
            "weighted avg       0.36      0.60      0.45       171\n",
            "\n",
            "\n",
            "-------------------------------------------------------\n",
            "\n"
          ]
        }
      ]
    },
    {
      "cell_type": "markdown",
      "source": [
        "#### **Conjunto de treino**\n",
        "\n",
        "---\n",
        "\n"
      ],
      "metadata": {
        "id": "fEpgbJAWh4hT"
      }
    },
    {
      "cell_type": "code",
      "source": [
        "# Matriz de confusão para o conjunto de teste\n",
        "getResults(X_train, y_train, lr_clf, model_name='reglog')"
      ],
      "metadata": {
        "colab": {
          "base_uri": "https://localhost:8080/",
          "height": 784
        },
        "id": "zRLPbbg3h1NW",
        "outputId": "69812972-7543-4c13-e890-ae70ba89413e"
      },
      "execution_count": null,
      "outputs": [
        {
          "output_type": "stream",
          "name": "stdout",
          "text": [
            "Modelo: Regressão Logística\n",
            "Acurácia: 0.6397984886649875 \n",
            "\n"
          ]
        },
        {
          "output_type": "display_data",
          "data": {
            "text/plain": [
              "<Figure size 640x480 with 2 Axes>"
            ],
            "image/png": "[encoded data removed]"
          },
          "metadata": {}
        },
        {
          "output_type": "stream",
          "name": "stdout",
          "text": [
            "\n",
            "############___Relatório de Classificação___############:\n",
            "\n",
            "              precision    recall  f1-score   support\n",
            "\n",
            "           B       0.64      1.00      0.78       254\n",
            "           M       0.00      0.00      0.00       143\n",
            "\n",
            "    accuracy                           0.64       397\n",
            "   macro avg       0.32      0.50      0.39       397\n",
            "weighted avg       0.41      0.64      0.50       397\n",
            "\n",
            "\n",
            "-------------------------------------------------------\n",
            "\n"
          ]
        }
      ]
    },
    {
      "cell_type": "markdown",
      "source": [
        "#### **Aplicando Oversampling no conjunto de treino**\n",
        "\n",
        "---"
      ],
      "metadata": {
        "id": "Ase9FY6wgIOv"
      }
    },
    {
      "cell_type": "code",
      "source": [
        "\n",
        "# Visualize o número de casos Benignos e Malignos\n",
        "showBalance(target=\"Diagnosis\")\n",
        "\n",
        "# Note que os dados estão relativamente balanceados, então caso haja aplicação de técnicas de\n",
        "# balanceamento o ganho será pouco.\n",
        "\n",
        "\n"
      ],
      "metadata": {
        "colab": {
          "base_uri": "https://localhost:8080/",
          "height": 691
        },
        "id": "IudZlRTSZfb_",
        "outputId": "4a3d8946-8751-48d0-e30c-59f6a2c10dc6"
      },
      "execution_count": null,
      "outputs": [
        {
          "output_type": "display_data",
          "data": {
            "text/plain": [
              "<Figure size 640x480 with 1 Axes>"
            ],
            "image/png": "[encoded data removed]"
          },
          "metadata": {}
        },
        {
          "output_type": "error",
          "ename": "NameError",
          "evalue": "ignored",
          "traceback": [
            "\u001b[0;31m---------------------------------------------------------------------------\u001b[0m",
            "\u001b[0;31mNameError\u001b[0m                                 Traceback (most recent call last)",
            "\u001b[0;32m<ipython-input-41-4cbb53fe0008>\u001b[0m in \u001b[0;36m<cell line: 7>\u001b[0;34m()\u001b[0m\n\u001b[1;32m      5\u001b[0m \u001b[0;31m# balanceamento o ganho será pouco.\u001b[0m\u001b[0;34m\u001b[0m\u001b[0;34m\u001b[0m\u001b[0m\n\u001b[1;32m      6\u001b[0m \u001b[0;34m\u001b[0m\u001b[0m\n\u001b[0;32m----> 7\u001b[0;31m fig = go.Figure(data=[go.Bar(\n\u001b[0m\u001b[1;32m      8\u001b[0m             \u001b[0mx\u001b[0m\u001b[0;34m=\u001b[0m\u001b[0mcount\u001b[0m\u001b[0;34m.\u001b[0m\u001b[0mindex\u001b[0m\u001b[0;34m,\u001b[0m \u001b[0my\u001b[0m\u001b[0;34m=\u001b[0m\u001b[0mcount\u001b[0m\u001b[0;34m[\u001b[0m\u001b[0;34m:\u001b[0m\u001b[0;34m]\u001b[0m\u001b[0;34m,\u001b[0m\u001b[0;34m\u001b[0m\u001b[0;34m\u001b[0m\u001b[0m\n\u001b[1;32m      9\u001b[0m             \u001b[0mtext\u001b[0m\u001b[0;34m=\u001b[0m\u001b[0mcount\u001b[0m\u001b[0;34m[\u001b[0m\u001b[0;34m:\u001b[0m\u001b[0;34m]\u001b[0m\u001b[0;34m,\u001b[0m\u001b[0;34m\u001b[0m\u001b[0;34m\u001b[0m\u001b[0m\n",
            "\u001b[0;31mNameError\u001b[0m: name 'go' is not defined"
          ]
        }
      ]
    },
    {
      "cell_type": "code",
      "source": [
        "mean_accuracy_without_smote = cross_validation(lr_clf, X_train, y_train)\n",
        "print(mean_accuracy_without_smote)\n",
        "print()\n",
        "mean_accuracy_with_smote = cross_validation(lr_clf, X_train, y_train, oversampling=True)\n",
        "mean_accuracy_with_smote"
      ],
      "metadata": {
        "colab": {
          "base_uri": "https://localhost:8080/"
        },
        "id": "DB4Fi5AKgDD5",
        "outputId": "e60f0e1d-9ffc-4119-baa4-7972b88ec312"
      },
      "execution_count": null,
      "outputs": [
        {
          "output_type": "stream",
          "name": "stdout",
          "text": [
            "Accuracy do split 0: 0.65\n",
            "Accuracy do split 1: 0.6\n",
            "Accuracy do split 2: 0.75\n",
            "Accuracy do split 3: 0.75\n",
            "Accuracy do split 4: 0.625\n",
            "Accuracy do split 5: 0.625\n",
            "Accuracy do split 6: 0.65\n",
            "Accuracy do split 7: 0.5641025641025641\n",
            "Accuracy do split 8: 0.6410256410256411\n",
            "Accuracy do split 9: 0.5384615384615384\n",
            "0.6393589743589744\n",
            "\n",
            "Accuracy do split 0: 0.65\n",
            "Accuracy do split 1: 0.4\n",
            "Accuracy do split 2: 0.25\n",
            "Accuracy do split 3: 0.25\n",
            "Accuracy do split 4: 0.375\n",
            "Accuracy do split 5: 0.375\n",
            "Accuracy do split 6: 0.35\n",
            "Accuracy do split 7: 0.4358974358974359\n",
            "Accuracy do split 8: 0.358974358974359\n",
            "Accuracy do split 9: 0.46153846153846156\n"
          ]
        },
        {
          "output_type": "execute_result",
          "data": {
            "text/plain": [
              "0.39064102564102565"
            ]
          },
          "metadata": {},
          "execution_count": 9
        }
      ]
    },
    {
      "cell_type": "markdown",
      "source": [
        "### **Aplicando regressão com pré-processamento**\n",
        " Hirperparametros modificados:"
      ],
      "metadata": {
        "id": "DRQLXUe-x_FU"
      }
    },
    {
      "cell_type": "code",
      "source": [
        "# dados normalizados\n",
        "train_scaled, test_scaled, y_train_scaled, y_test_scaled = data_preprocess(X, y, df0)\n",
        "\n",
        "\n",
        "# Transformando em DataFrames\n",
        "train_scaled_df   = pd.DataFrame(train_scaled, columns=X.columns)\n",
        "test_scaled_df    =  pd.DataFrame(test_scaled, columns=X.columns)\n",
        "y_train_scaled_df = pd.DataFrame(y_train_scaled, columns=['Diagnosis'])\n",
        "y_test_scaled_df  = pd.DataFrame(y_test_scaled, columns=['Diagnosis'])"
      ],
      "metadata": {
        "id": "zl2B8aENiVnY",
        "colab": {
          "base_uri": "https://localhost:8080/"
        },
        "outputId": "6d30b9c1-d43f-4b3c-c0aa-d5668c47efbf"
      },
      "execution_count": null,
      "outputs": [
        {
          "output_type": "stream",
          "name": "stderr",
          "text": [
            "<ipython-input-13-66b759566096>:17: FutureWarning: The default value of numeric_only in DataFrame.corr is deprecated. In a future version, it will default to False. Select only valid columns or specify the value of numeric_only to silence this warning.\n",
            "  corr_matrix = df.corr().abs()\n"
          ]
        }
      ]
    },
    {
      "cell_type": "markdown",
      "source": [
        "#### **Conjunto de treino**\n",
        "\n",
        "---\n",
        "\n"
      ],
      "metadata": {
        "id": "mFz6P1WOmAVd"
      }
    },
    {
      "cell_type": "code",
      "source": [
        "log = LogisticRegression()\n",
        "log.fit(train_scaled, y_train_scaled);\n",
        "score = log.score(train_scaled, y_train_scaled)\n",
        "print(f'Accuracy no conjunto de treino: {score:.5f}');"
      ],
      "metadata": {
        "colab": {
          "base_uri": "https://localhost:8080/"
        },
        "id": "u1RCu-rWFzn2",
        "outputId": "752cd322-74c0-4ee4-9216-5f54ffa49b59"
      },
      "execution_count": null,
      "outputs": [
        {
          "output_type": "stream",
          "name": "stdout",
          "text": [
            "Accuracy no conjunto de treino: 0.99244\n"
          ]
        }
      ]
    },
    {
      "cell_type": "code",
      "source": [
        "getResults(train_scaled, y_train_scaled, log, model_name='reglog')"
      ],
      "metadata": {
        "colab": {
          "base_uri": "https://localhost:8080/",
          "height": 784
        },
        "id": "pVmJ_xlxUZ2j",
        "outputId": "a468a3bd-ba52-453e-84bc-9221745c5cfe"
      },
      "execution_count": null,
      "outputs": [
        {
          "output_type": "stream",
          "name": "stdout",
          "text": [
            "Modelo: Regressão Logística\n",
            "Acurácia: 0.9924433249370277 \n",
            "\n"
          ]
        },
        {
          "output_type": "display_data",
          "data": {
            "text/plain": [
              "<Figure size 640x480 with 2 Axes>"
            ],
            "image/png": "[encoded data removed]"
          },
          "metadata": {}
        },
        {
          "output_type": "stream",
          "name": "stdout",
          "text": [
            "\n",
            "############___Relatório de Classificação___############:\n",
            "\n",
            "              precision    recall  f1-score   support\n",
            "\n",
            "           B       0.99      1.00      0.99       254\n",
            "           M       0.99      0.99      0.99       143\n",
            "\n",
            "    accuracy                           0.99       397\n",
            "   macro avg       0.99      0.99      0.99       397\n",
            "weighted avg       0.99      0.99      0.99       397\n",
            "\n",
            "\n",
            "-------------------------------------------------------\n",
            "\n"
          ]
        }
      ]
    },
    {
      "cell_type": "markdown",
      "source": [
        "Avaliação do modelo usando validação cruzada depois de ter aplicado oversampling, normalização dos dados e eliminado variáveis correlacionadas"
      ],
      "metadata": {
        "id": "t4higv8sbX5W"
      }
    },
    {
      "cell_type": "code",
      "source": [
        "# Oversampling\n",
        "mean_accuracy_without_smote = cross_validation(log, train_scaled_df, y_train_scaled_df)\n",
        "print(mean_accuracy_without_smote)\n",
        "print()\n",
        "mean_accuracy_with_smote = cross_validation(log, train_scaled_df, y_train_scaled_df, oversampling=True)\n",
        "mean_accuracy_with_smote"
      ],
      "metadata": {
        "colab": {
          "base_uri": "https://localhost:8080/"
        },
        "id": "mf-xik3dZrFZ",
        "outputId": "e0371192-5623-4e7c-9d57-110525b75218"
      },
      "execution_count": null,
      "outputs": [
        {
          "output_type": "stream",
          "name": "stdout",
          "text": [
            "Accuracy do split 0: 1.0\n",
            "Accuracy do split 1: 1.0\n",
            "Accuracy do split 2: 0.95\n",
            "Accuracy do split 3: 0.975\n",
            "Accuracy do split 4: 1.0\n",
            "Accuracy do split 5: 1.0\n",
            "Accuracy do split 6: 0.975\n",
            "Accuracy do split 7: 0.9230769230769231\n",
            "Accuracy do split 8: 1.0\n",
            "Accuracy do split 9: 0.9743589743589743\n",
            "0.9797435897435898\n",
            "\n",
            "Accuracy do split 0: 1.0\n",
            "Accuracy do split 1: 0.975\n",
            "Accuracy do split 2: 0.95\n",
            "Accuracy do split 3: 0.975\n",
            "Accuracy do split 4: 1.0\n",
            "Accuracy do split 5: 1.0\n",
            "Accuracy do split 6: 0.975\n",
            "Accuracy do split 7: 0.9487179487179487\n",
            "Accuracy do split 8: 0.9743589743589743\n",
            "Accuracy do split 9: 0.9743589743589743\n"
          ]
        },
        {
          "output_type": "execute_result",
          "data": {
            "text/plain": [
              "0.9772435897435897"
            ]
          },
          "metadata": {},
          "execution_count": 37
        }
      ]
    },
    {
      "cell_type": "markdown",
      "source": [
        "#### **Conjunto de teste**\n",
        "\n",
        "---\n",
        "\n"
      ],
      "metadata": {
        "id": "kl0HupKWmF1o"
      }
    },
    {
      "cell_type": "code",
      "source": [
        "log = LogisticRegression()\n",
        "log.fit(train_scaled, y_train_scaled);\n",
        "score = log.score(test_scaled, y_test_scaled)\n",
        "print(f'Accuracy no conjunto de teste: {score:.5f}')"
      ],
      "metadata": {
        "colab": {
          "base_uri": "https://localhost:8080/"
        },
        "id": "fE9p30jKmFVX",
        "outputId": "ed6767fe-5eeb-48e5-b67a-9e9f554fa3cb"
      },
      "execution_count": null,
      "outputs": [
        {
          "output_type": "stream",
          "name": "stdout",
          "text": [
            "Accuracy no conjunto de teste: 0.97076\n"
          ]
        }
      ]
    },
    {
      "cell_type": "code",
      "source": [
        "getResults(test_scaled, y_test_scaled, log, model_name='reglog')"
      ],
      "metadata": {
        "colab": {
          "base_uri": "https://localhost:8080/",
          "height": 784
        },
        "id": "zVwrWPWbnH8J",
        "outputId": "0fb71c48-4d29-4df5-ef37-0491f9787683"
      },
      "execution_count": null,
      "outputs": [
        {
          "output_type": "stream",
          "name": "stdout",
          "text": [
            "Modelo: Regressão Logística\n",
            "Acurácia: 0.9707602339181286 \n",
            "\n"
          ]
        },
        {
          "output_type": "display_data",
          "data": {
            "text/plain": [
              "<Figure size 640x480 with 2 Axes>"
            ],
            "image/png": "[encoded data removed]"
          },
          "metadata": {}
        },
        {
          "output_type": "stream",
          "name": "stdout",
          "text": [
            "\n",
            "############___Relatório de Classificação___############:\n",
            "\n",
            "              precision    recall  f1-score   support\n",
            "\n",
            "           B       0.97      0.98      0.98       103\n",
            "           M       0.97      0.96      0.96        68\n",
            "\n",
            "    accuracy                           0.97       171\n",
            "   macro avg       0.97      0.97      0.97       171\n",
            "weighted avg       0.97      0.97      0.97       171\n",
            "\n",
            "\n",
            "-------------------------------------------------------\n",
            "\n"
          ]
        }
      ]
    },
    {
      "cell_type": "code",
      "source": [
        "# Oversampling\n",
        "mean_accuracy_without_smote = cross_validation(log, test_scaled_df, y_test_scaled_df)\n",
        "print(mean_accuracy_without_smote)\n",
        "print()\n",
        "mean_accuracy_with_smote = cross_validation(log, test_scaled_df, y_test_scaled_df, oversampling=True)\n",
        "mean_accuracy_with_smote"
      ],
      "metadata": {
        "colab": {
          "base_uri": "https://localhost:8080/"
        },
        "id": "C-96PcmVc3TC",
        "outputId": "e73f1d1c-aec8-4eab-8ca2-8e8455fb2d61"
      },
      "execution_count": null,
      "outputs": [
        {
          "output_type": "stream",
          "name": "stdout",
          "text": [
            "Accuracy do split 0: 1.0\n",
            "Accuracy do split 1: 0.8823529411764706\n",
            "Accuracy do split 2: 0.8823529411764706\n",
            "Accuracy do split 3: 0.8823529411764706\n",
            "Accuracy do split 4: 0.8823529411764706\n",
            "Accuracy do split 5: 1.0\n",
            "Accuracy do split 6: 1.0\n",
            "Accuracy do split 7: 1.0\n",
            "Accuracy do split 8: 1.0\n",
            "Accuracy do split 9: 1.0\n",
            "0.9529411764705882\n",
            "\n",
            "Accuracy do split 0: 1.0\n",
            "Accuracy do split 1: 0.8823529411764706\n",
            "Accuracy do split 2: 0.8823529411764706\n",
            "Accuracy do split 3: 0.8823529411764706\n",
            "Accuracy do split 4: 0.8823529411764706\n",
            "Accuracy do split 5: 1.0\n",
            "Accuracy do split 6: 1.0\n",
            "Accuracy do split 7: 1.0\n",
            "Accuracy do split 8: 1.0\n",
            "Accuracy do split 9: 0.9411764705882353\n"
          ]
        },
        {
          "output_type": "execute_result",
          "data": {
            "text/plain": [
              "0.9470588235294117"
            ]
          },
          "metadata": {},
          "execution_count": 40
        }
      ]
    },
    {
      "cell_type": "markdown",
      "source": [
        "## **K-vizinhos**\n",
        "\n",
        "---\n",
        "\n",
        "\n"
      ],
      "metadata": {
        "id": "NsmYEVk7ckBZ"
      }
    },
    {
      "cell_type": "markdown",
      "source": [
        "#### **O modelo K-Means**\n",
        "\n",
        "O K-Means é um algoritmo de aprendizado de máquina não supervisionado que é utilizado para realizar tarefas de agrupamento (clustering) em conjuntos de dados. Seu objetivo é particionar o conjunto de dados em k grupos (clusters) distintos, onde cada grupo contém pontos de dados que são similares entre si e diferentes dos pontos de dados em outros grupos.\n",
        "\n",
        "**Funcionamento do K-Means:**\n",
        "\n",
        "1. **Inicialização:** O algoritmo começa selecionando aleatoriamente k pontos como os centroides iniciais dos clusters.\n",
        "\n",
        "2. **Atribuição dos pontos:** Cada ponto de dado é atribuído ao cluster cujo centroide está mais próximo, com base na distância euclidiana.\n",
        "\n",
        "3. **Atualização dos centroides:** Os centroides de cada cluster são recalculados para serem a média dos pontos atribuídos a esse cluster.\n",
        "\n",
        "4. **Repetição:** Os passos 2 e 3 são repetidos até que ocorra convergência, ou seja, quando os centroides não mudam significativamente entre iterações.\n",
        "\n",
        "5. **Convergência:** Quando a convergência é atingida, os clusters estão formados e os pontos de dados estão agrupados de acordo com os centroides.\n",
        "\n",
        "**Fórmula da Distância Euclidiana:**\n",
        "\n",
        "A distância euclidiana é utilizada para medir a proximidade entre os pontos de dados e os centroides dos clusters. Seja \\(X_i\\) o ponto de dados e \\(C_j\\) o centroide do cluster j, a distância euclidiana \\(d(X_i, C_j)\\) é calculada da seguinte forma:\n",
        "\n",
        "$$ d(X_i, C_j) = \\sqrt{\\sum_{k=1}^{n} (X_{i,k} - C_{j,k})^2} $$\n",
        "\n",
        "onde:\n",
        "- \\(n\\) é o número de dimensões (atributos) do conjunto de dados.\n",
        "- \\(X_{i,k}\\) é o valor do atributo k do ponto de dados \\(X_i\\).\n",
        "- \\(C_{j,k}\\) é o valor do atributo k do centroide \\(C_j\\).\n",
        "\n",
        "**Métricas de Avaliação:**\n",
        "\n",
        "Ao contrário da árvore de decisão, o K-Means é um algoritmo não supervisionado, o que significa que não possui um rótulo de classe conhecido para avaliar seu desempenho diretamente. Portanto, métricas como acurácia não são aplicáveis no contexto do K-Means.\n",
        "\n",
        "As métricas comuns para avaliar a qualidade dos agrupamentos gerados pelo K-Means incluem:\n",
        "\n",
        "1. **Inércia:** A inércia é a soma das distâncias ao quadrado de cada ponto de dado ao centroide do cluster ao qual ele foi atribuído. O objetivo é minimizar a inércia, ou seja, encontrar clusters que tenham pontos próximos ao seu centroide.\n",
        "\n",
        "2. **Coeficiente de Silhueta:** O coeficiente de silhueta é uma medida que varia de -1 a 1 e fornece uma indicação de quão bem os pontos estão agrupados. Valores mais próximos de 1 indicam que os pontos estão bem agrupados, enquanto valores próximos de -1 indicam que os pontos podem ter sido atribuídos ao cluster errado.\n",
        "\n",
        "3. **Índice Davies-Bouldin (DBI):** O índice DBI mede a dispersão entre os clusters e a separação entre eles. Quanto menor o valor do DBI, melhor a qualidade dos clusters.\n",
        "\n",
        "Essas métricas podem ser utilizadas para avaliar o desempenho do algoritmo K-Means e selecionar o valor ideal de k (número de clusters) através de técnicas como o método do cotovelo (Elbow Method) ou o índice de validação externa."
      ],
      "metadata": {
        "id": "UZovvccElrlM"
      }
    },
    {
      "cell_type": "code",
      "source": [],
      "metadata": {
        "id": "3sQZ9GRIYe5-"
      },
      "execution_count": null,
      "outputs": []
    }
  ]
}